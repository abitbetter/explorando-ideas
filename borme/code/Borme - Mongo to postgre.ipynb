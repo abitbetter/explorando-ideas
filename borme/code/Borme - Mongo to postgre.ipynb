{
 "metadata": {
  "name": ""
 },
 "nbformat": 3,
 "nbformat_minor": 0,
 "worksheets": [
  {
   "cells": [
    {
     "cell_type": "code",
     "collapsed": false,
     "input": [
      "from pymongo import MongoClient\n",
      "client = MongoClient('mongodb://localhost:27017/')\n",
      "# set database\n",
      "db = client.borme\n",
      "#set collection\n",
      "facts = db.facts\n",
      "\n",
      "import pyodbc\n",
      "cn = pyodbc.connect('DSN=PostgreSQL35W')"
     ],
     "language": "python",
     "metadata": {},
     "outputs": [],
     "prompt_number": 16
    },
    {
     "cell_type": "code",
     "collapsed": false,
     "input": [
      "a = facts.find({ \"Anyo\": {  \"$eq\": \"2009\"}})"
     ],
     "language": "python",
     "metadata": {},
     "outputs": [],
     "prompt_number": 17
    },
    {
     "cell_type": "code",
     "collapsed": false,
     "input": [
      "cn = pyodbc.connect('DSN=PostgreSQL35W')\n",
      "for fact in facts.find({ \"Anyo\": {  \"$eq\": \"2009\"}}):\n",
      "    querySQL = 'insert into borme.registros_v2 values (' + fact[\"Fecha\"] + ',' + fact['Registro'] +',' + fact['Provincia']+ ',' + str(fact['blanks']) + ',' + str(fact['characters']) + ' );'\n",
      "    foo = cn.execute(querySQL)\n",
      "    cn.commit()\n",
      "cn.close()"
     ],
     "language": "python",
     "metadata": {},
     "outputs": [],
     "prompt_number": 18
    },
    {
     "cell_type": "code",
     "collapsed": false,
     "input": [
      "import pyodbc"
     ],
     "language": "python",
     "metadata": {},
     "outputs": [],
     "prompt_number": 4
    },
    {
     "cell_type": "code",
     "collapsed": false,
     "input": [
      "cn = pyodbc.connect('DSN=PostgreSQL35W')"
     ],
     "language": "python",
     "metadata": {},
     "outputs": [],
     "prompt_number": 10
    },
    {
     "cell_type": "code",
     "collapsed": false,
     "input": [
      "querySQL = 'insert into borme.registros values (' + 20000101 + ',' + 1 +',' + 33 + ')'"
     ],
     "language": "python",
     "metadata": {},
     "outputs": []
    }
   ],
   "metadata": {}
  }
 ]
}