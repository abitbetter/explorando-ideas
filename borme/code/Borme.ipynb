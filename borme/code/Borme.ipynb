{
 "metadata": {
  "name": ""
 },
 "nbformat": 3,
 "nbformat_minor": 0,
 "worksheets": [
  {
   "cells": [
    {
     "cell_type": "code",
     "collapsed": false,
     "input": [
      "from bs4 import BeautifulSoup\n",
      "import re\n",
      "import glob\n",
      "# set server\n",
      "from pymongo import MongoClient\n",
      "client = MongoClient('mongodb://localhost:27017/')\n",
      "# set database\n",
      "db = client.borme\n",
      "#set collection\n",
      "facts = db.facts"
     ],
     "language": "python",
     "metadata": {},
     "outputs": [],
     "prompt_number": 1
    },
    {
     "cell_type": "code",
     "collapsed": false,
     "input": [
      "from pdfminer.pdfinterp import PDFResourceManager, PDFPageInterpreter\n",
      "from pdfminer.converter import TextConverter\n",
      "from pdfminer.layout import LAParams\n",
      "from pdfminer.pdfpage import PDFPage\n",
      "from cStringIO import StringIO\n",
      "\n",
      "def convert_pdf_to_txt(path):\n",
      "    rsrcmgr = PDFResourceManager()\n",
      "    retstr = StringIO()\n",
      "    codec = 'utf-8'\n",
      "    laparams = LAParams()\n",
      "    device = TextConverter(rsrcmgr, retstr, codec=codec, laparams=laparams)\n",
      "    fp = file(path, 'rb')\n",
      "    interpreter = PDFPageInterpreter(rsrcmgr, device)\n",
      "    password = \"\"\n",
      "    maxpages = 0\n",
      "    caching = True\n",
      "    pagenos=set()\n",
      "    for page in PDFPage.get_pages(fp, pagenos, maxpages=maxpages, password=password,caching=caching, check_extractable=True):\n",
      "        interpreter.process_page(page)\n",
      "    fp.close()\n",
      "    device.close()\n",
      "    str = retstr.getvalue()\n",
      "    retstr.close()\n",
      "    return str"
     ],
     "language": "python",
     "metadata": {},
     "outputs": [],
     "prompt_number": 2
    },
    {
     "cell_type": "code",
     "collapsed": false,
     "input": [
      "def convert_fact_to_xml(ori):\n",
      "    fact = ori\n",
      "    fact = fact.replace('  ',' ')\n",
      "    fact=fact.replace('Revocaciones','\"><b class=\"Revocaciones\" value=\"')\n",
      "    fact=fact.replace('Reelecciones','\"><b class=\"Reelecciones\" value=\"')\n",
      "    fact=fact.replace('Nombramientos','\"><b class=\"Nombramientos\" value=\"')\n",
      "    fact=fact.replace('Ceses/Dimisiones','\"><b class=\"Ceses/Dimisiones\" value=\"')\n",
      "    fact=fact.replace('Cancelaciones de oficio de nombramientos','\"><b class=\"Cancelacionesdeoficiodenombramientos\" value=\"')\n",
      "    fact=fact.replace('Sociedad unipersonal','\"><b class=\"Sociedadunipersonal\" value=\"')\n",
      "    fact=fact.replace('P\u00e9rdida del caracter de unipersonalidad','\"><b class=\"Perdidadelcaracterdeunipersonalidad\" value=\"')\n",
      "    fact=fact.replace('Declaraci\u00f3n de unipersonalidad','\"><b class=\"Declaraciondeunipersonalidad\" value=\"')\n",
      "    fact=fact.replace('Reducci\u00f3n de capital','\"><b class=\"Reducciondecapital\" value=\"')\n",
      "    fact=fact.replace('Aumento de capital','\"><b class=\"Aumentodecapital\" value=\"')\n",
      "    fact=fact.replace('Ampliaci\u00f3n de capital','\"><b class=\"Ampliaciondecapital\" value=\"')\n",
      "    fact=fact.replace('Reapertura hoja registral','\"><b class=\"Reaperturahojaregistral\" value=\"')\n",
      "    fact=fact.replace('Cierre provisional hoja registral','\"><b class=\"Cierreprovisionalhojaregistral\" value=\"')\n",
      "    fact=fact.replace('Situaci\u00f3n concursal','\"><b class=\"Situacionconcursal\" value=\"')\n",
      "    fact=fact.replace('Cr\u00e9dito incobrable','\"><b class=\"Creditoincobrable\" value=\"')\n",
      "    fact=fact.replace('Constituci\u00f3n de sociedad','\"><b class=\"Constituciondesociedad\" value=\"')\n",
      "    fact=fact.replace('C o n s t i t u c i \u00f3 n','\"><b class=\"Constituciondesociedad\" value=\"')\n",
      "    fact=fact.replace('Convocatoria de Junta','\"><b class=\"ConvocatoriadeJunta\" value=\"')\n",
      "    fact=fact.replace('Reapertura de hoja registral por dep\u00f3sito de cuentas','\"><b class=\"Reaperturadehojaregistralpordepositodecuentas\" value=\"')\n",
      "    fact=fact.replace('Cierre provisional de hoja registral','\"><b class=\"Cierreprovisionaldehojaregistral\" value=\"')\n",
      "    fact=fact.replace('Articulo 378.5 del Reglamento del Registro Mercantil','\"><b class=\"Articulo378_5delReglamentodelRegistroMercantil\" value=\"')\n",
      "    fact=fact.replace('Extinci\u00f3n','\"><b class=\"Extincion\" value=\"')\n",
      "    fact=fact.replace('Disoluci\u00f3n','\"><b class=\"Disolucion\" value=\"')\n",
      "    fact=fact.replace('Fusiones y absorciones de empresas','\"><b class=\"Fusionesyabsorcionesdeempresas\" value=\"')\n",
      "    fact=fact.replace('Fusi\u00f3n por uni\u00f3n','\"><b class=\"Fusionporunion\" value=\"')\n",
      "    fact=fact.replace('Fusi\u00f3n por absorci\u00f3n','\"><b class=\"Fusionporabsorcion\" value=\"')\n",
      "    fact=fact.replace('Escisi\u00f3n total','\"><b class=\"Escisiontotal\" value=\"')\n",
      "    fact=fact.replace('Escisi\u00f3n parcial','\"><b class=\"Escisionparcial\" value=\"')\n",
      "    fact=fact.replace('Escisi\u00f3n de empresas','\"><b class=\"Escisiondeempresas\" value=\"')\n",
      "    fact=fact.replace('Dep\u00f3sitos de proyectos de escisi\u00f3n total','\"><b class=\"Depositosdeproyectosdeescisiontotal\" value=\"')\n",
      "    fact=fact.replace('Transformaci\u00f3n de sociedad','\"><b class=\"Transformaciondesociedad\" value=\"')\n",
      "    fact=fact.replace('Modificaciones estatutarias','\"><b class=\"Modificacionesestatutarias\" value=\"')\n",
      "    fact=fact.replace('Modificaci\u00f3n de poderes','\"><b class=\"Modificaciondepoderes\" value=\"')\n",
      "    fact=fact.replace('Cambio de objeto social','\"><b class=\"Cambiodeobjetosocial\" value=\"')\n",
      "    fact=fact.replace('Cambio de domicilio social','\"><b class=\"Cambiodedomiciliosocial\" value=\"')\n",
      "    fact=fact.replace('Cambio de denominaci\u00f3n social','\"><b class=\"Cambiodedenominacionsocial\" value=\"')\n",
      "    fact=fact.replace('Ampliacion del objeto social','\"><b class=\"Ampliaciondelobjetosocial\" value=\"')\n",
      "    fact=fact.replace('Otros anuncios y avisos legales','\"><b class=\"Otrosanunciosyavisoslegales\" value=\"')\n",
      "    fact=fact.replace('Otros conceptos','\"><b class=\"Otrosconceptos\" value=\"')\n",
      "    fact=fact.replace('Otros c o n c e p t o s','\"><b class=\"Otrosconceptos\" value=\"')\n",
      "    fact=fact.replace('O t r o s c o n c e p t o s','\"><b class=\"Otrosconceptos\" value=\"')\n",
      "    fact=fact.replace('Fe de erratas','\"><b class=\"Fedeerratas\" value=\"')\n",
      "    fact=fact.replace('Datos registrales','\"><b class=\"Datosregistrales\" value=\"')\n",
      "    fact=fact.replace('Cierre provisional hoja registral art. 137.2 Ley 43/1995 Impuesto de Sociedades','\"><b class=\"Cierreprovisionalhoja\" value=\"')\n",
      "    fact=fact.replace('Acuerdo de ampliaci\u00f3n de capital social sin ejecutar','\"><b class=\"Acuerdodeampliaciondecapitalsocialsinejecutar\" value=\"')\n",
      "    fact=fact.replace('Emisi\u00f3n de obligaciones','\"><b class=\"Emisiondeobligaciones\" value=\"')\n",
      "    fact=fact.replace('Cesi\u00f3n global de activo y pasivo','\"><b class=\"Cesionglobaldeactivoypasivo\" value=\"')\n",
      "    fact=fact.replace('Constituci\u00f3n','\"><b class=\"Constitucion\" value=\"')\n",
      "        \n",
      "    \n",
      "    return fact\n",
      "\n",
      "\n",
      "\n",
      "    "
     ],
     "language": "python",
     "metadata": {},
     "outputs": [],
     "prompt_number": 14
    },
    {
     "cell_type": "code",
     "collapsed": false,
     "input": [
      "def clean_document(f_txt, name):\n",
      "    f_txt_clean = f_txt\n",
      "    n = name.replace('-','',1)[::-1]\n",
      "    w = '\\n'.join(n)\n",
      "    q = w + '\\n\\n-\\n\\n \\n:\\ne\\nv\\nc'\n",
      "    f_txt_clean= f_txt_clean.replace(q,'')\n",
      "    f_txt_clean = f_txt_clean.replace('Adm. Solid.','AdmSolid')\n",
      "    f_txt_clean = f_txt_clean.replace('Adm. Unico','AdmUnico')\n",
      "    f_txt_clean = f_txt_clean.replace('Adm.  Unico','AdmUnico')\n",
      "    f_txt_clean = f_txt_clean.replace('Adm. Mancom.','AdmMancom')\n",
      "    lines = [b for b in f_txt_clean.split('\\n') if b <> '']\n",
      "    indices = [i for i, x in enumerate(lines) if  \"BOLET\u00cdN OFICIAL DEL REGISTRO MERCANTIL\" in x]\n",
      "    nlines = len(lines)\n",
      "    for ind in indices:\n",
      "        if (nlines - 4) > ind:\n",
      "            lines[ind] = 'ESTA@LINEA#ES+PARA*BORRAR'\n",
      "            lines[ind+1] = 'ESTA@LINEA#ES+PARA*BORRAR'\n",
      "            lines[ind+2] = 'ESTA@LINEA#ES+PARA*BORRAR'\n",
      "            lines[ind+3] = 'ESTA@LINEA#ES+PARA*BORRAR'\n",
      "        else:\n",
      "            lines[ind-1] = 'ESTA@LINEA#ES+PARA*BORRAR'\n",
      "            lines[ind] = 'ESTA@LINEA#ES+PARA*BORRAR'\n",
      "            lines[ind+1] = 'ESTA@LINEA#ES+PARA*BORRAR'\n",
      "    lines[4] = 'ESTA@LINEA#ES+PARA*BORRAR'\n",
      "    lines[5] = 'ESTA@LINEA#ES+PARA*BORRAR'\n",
      "    lines[6] = 'ESTA@LINEA#ES+PARA*BORRAR'\n",
      "    lines[7] = 'ESTA@LINEA#ES+PARA*BORRAR'\n",
      "    lines = [x for x in lines if x <> 'ESTA@LINEA#ES+PARA*BORRAR']\n",
      "    return lines"
     ],
     "language": "python",
     "metadata": {},
     "outputs": [],
     "prompt_number": 4
    },
    {
     "cell_type": "code",
     "collapsed": false,
     "input": [
      "def getIndices(lines):\n",
      "    indices = []\n",
      "    contador = 0\n",
      "    for line in lines:\n",
      "        words = [word for word in line.split()]\n",
      "        if len(words) > 2:\n",
      "            if words[1] == '-' and not re.match('\\D',words[0]):\n",
      "                #print(line)\n",
      "                indices.append(contador)\n",
      "        contador = contador + 1\n",
      "    indices.append(len(lines)-1)\n",
      "    \n",
      "    # modificar indices\n",
      "    if (len(indices) > 1):\n",
      "        values = [1,2]\n",
      "        while len(values) > 1:\n",
      "            registros = []\n",
      "            for i in indices:\n",
      "                if lines[i].split(' - ')[0] <> '\\x0c':\n",
      "                    if lines[i].split(' - ')[0].rstrip().isdigit():\n",
      "                        registros.append(int(lines[i].split(' - ')[0]))\n",
      "                    else: \n",
      "                        registros.append(-1)\n",
      "            v = [x[0]-x[1] for x in zip(registros[1:],registros[:-1])]\n",
      "            values = [x for x in v if x <> 1]\n",
      "            if len(values) > 0:\n",
      "                #print(\"indice borrado :\" + str(v.index(values[0])+1))\n",
      "                indices.pop(v.index(values[0])+1)\n",
      "                \n",
      "    return indices"
     ],
     "language": "python",
     "metadata": {},
     "outputs": [],
     "prompt_number": 5
    },
    {
     "cell_type": "code",
     "collapsed": false,
     "input": [
      "def insertMongo(f,lines,indices):\n",
      "    nombreBorme =f.split('\\\\')[-1].split('.')[0]\n",
      "    nBorme = nombreBorme.split('-')\n",
      "    for i in range(len(indices)-1):\n",
      "    #for i in range(2):\n",
      "        j=i\n",
      "        post = {}\n",
      "        post['Empresa']=lines[indices[i]].split(' - ')[1]\n",
      "        post['Registro']=lines[indices[i]].split(' - ')[0]\n",
      "        post['Fecha']=nBorme[0]\n",
      "        post['Anyo']=nBorme[3]\n",
      "        post['Dia']=nBorme[4]\n",
      "        post['Seccion']=nBorme[2]\n",
      "        post['Provincia']=nBorme[5]\n",
      "        ori = ' '.join(lines[indices[i]+1:indices[i+1]])\n",
      "        #post['blanks'] = sum([1 if len(x) == 1 else 0 for x in ori.split(' ')])\n",
      "        #post['characters'] = len(ori.split(' '))\n",
      "        post['blanks'] = sum([1 if x == ' ' else 0 for x in ori])\n",
      "        post['characters'] = len(ori)\n",
      "        xml=convert_fact_to_xml(ori)\n",
      "        xml = xml + '\">'\n",
      "        xml = xml[2:len(xml)]\n",
      "        soup = BeautifulSoup(xml)\n",
      "        for fact in soup.findAll('b'):\n",
      "            #print(str(fact['class'][0]) + ':' + str(fact['value']))\n",
      "            if fact['class'][0] in post:\n",
      "                post[fact['class'][0]] = post[fact['class'][0]] + ' #|# ' + fact['value']\n",
      "            else:\n",
      "                post[fact['class'][0]]=fact['value']\n",
      "        fact_id = facts.insert(post)"
     ],
     "language": "python",
     "metadata": {},
     "outputs": [],
     "prompt_number": 16
    },
    {
     "cell_type": "code",
     "collapsed": false,
     "input": [
      "\n",
      "allFiles = glob.glob('F:\\\\work\\\\BORME\\\\*-A-2009*.pdf')\n",
      "#allFiles = glob.glob('F:\\\\work\\\\BORME\\\\20091116-BORME-A-2009-218-08.pdf')\n",
      "\n",
      "\n",
      "files = [x for x in allFiles if '-99.' not in x] \n",
      "alert_count = 0\n",
      "for f in files:\n",
      "    f_txt = convert_pdf_to_txt(f)\n",
      "    name = '-'.join(f.split('-')[1:6]).split('.')[0]\n",
      "    #clean document\n",
      "    lines = clean_document(f_txt, name)\n",
      "    #getIndices\n",
      "    indices = getIndices(lines)\n",
      "    ##initialize client    \n",
      "    insertMongo(f,lines,indices)\n",
      "    #\n",
      "    if (alert_count % 50) == 0:\n",
      "        print(f)\n",
      "    alert_count = alert_count + 1\n",
      "  \n",
      "    \n",
      "\n",
      "    "
     ],
     "language": "python",
     "metadata": {},
     "outputs": [
      {
       "output_type": "stream",
       "stream": "stdout",
       "text": [
        "F:\\work\\BORME\\20090102-BORME-A-2009-1-01.pdf\n",
        "F:\\work\\BORME\\20090105-BORME-A-2009-2-27.pdf"
       ]
      },
      {
       "output_type": "stream",
       "stream": "stdout",
       "text": [
        "\n",
        "F:\\work\\BORME\\20090108-BORME-A-2009-4-06.pdf"
       ]
      },
      {
       "output_type": "stream",
       "stream": "stdout",
       "text": [
        "\n",
        "F:\\work\\BORME\\20090112-BORME-A-2009-6-15.pdf"
       ]
      },
      {
       "output_type": "stream",
       "stream": "stdout",
       "text": [
        "\n",
        "F:\\work\\BORME\\20090113-BORME-A-2009-7-38.pdf"
       ]
      },
      {
       "output_type": "stream",
       "stream": "stdout",
       "text": [
        "\n",
        "F:\\work\\BORME\\20090115-BORME-A-2009-9-38.pdf"
       ]
      },
      {
       "output_type": "stream",
       "stream": "stdout",
       "text": [
        "\n",
        "F:\\work\\BORME\\20090119-BORME-A-2009-11-20.pdf"
       ]
      },
      {
       "output_type": "stream",
       "stream": "stdout",
       "text": [
        "\n",
        "F:\\work\\BORME\\20090120-BORME-A-2009-12-48.pdf"
       ]
      },
      {
       "output_type": "stream",
       "stream": "stdout",
       "text": [
        "\n",
        "F:\\work\\BORME\\20090122-BORME-A-2009-14-24.pdf"
       ]
      },
      {
       "output_type": "stream",
       "stream": "stdout",
       "text": [
        "\n",
        "F:\\work\\BORME\\20090123-BORME-A-2009-15-51.pdf"
       ]
      },
      {
       "output_type": "stream",
       "stream": "stdout",
       "text": [
        "\n",
        "F:\\work\\BORME\\20090127-BORME-A-2009-17-31.pdf"
       ]
      },
      {
       "output_type": "stream",
       "stream": "stdout",
       "text": [
        "\n",
        "F:\\work\\BORME\\20090129-BORME-A-2009-19-27.pdf"
       ]
      },
      {
       "output_type": "stream",
       "stream": "stdout",
       "text": [
        "\n",
        "F:\\work\\BORME\\20090202-BORME-A-2009-21-03.pdf"
       ]
      },
      {
       "output_type": "stream",
       "stream": "stdout",
       "text": [
        "\n",
        "F:\\work\\BORME\\20090203-BORME-A-2009-22-27.pdf"
       ]
      },
      {
       "output_type": "stream",
       "stream": "stdout",
       "text": [
        "\n",
        "F:\\work\\BORME\\20090205-BORME-A-2009-24-15.pdf"
       ]
      },
      {
       "output_type": "stream",
       "stream": "stdout",
       "text": [
        "\n",
        "F:\\work\\BORME\\20090206-BORME-A-2009-25-50.pdf"
       ]
      },
      {
       "output_type": "stream",
       "stream": "stdout",
       "text": [
        "\n",
        "F:\\work\\BORME\\20090210-BORME-A-2009-27-32.pdf"
       ]
      },
      {
       "output_type": "stream",
       "stream": "stdout",
       "text": [
        "\n",
        "F:\\work\\BORME\\20090212-BORME-A-2009-29-14.pdf"
       ]
      },
      {
       "output_type": "stream",
       "stream": "stdout",
       "text": [
        "\n",
        "F:\\work\\BORME\\20090213-BORME-A-2009-30-48.pdf"
       ]
      },
      {
       "output_type": "stream",
       "stream": "stdout",
       "text": [
        "\n",
        "F:\\work\\BORME\\20090217-BORME-A-2009-32-12.pdf"
       ]
      },
      {
       "output_type": "stream",
       "stream": "stdout",
       "text": [
        "\n",
        "F:\\work\\BORME\\20090219-BORME-A-2009-34-04.pdf"
       ]
      },
      {
       "output_type": "stream",
       "stream": "stdout",
       "text": [
        "\n",
        "F:\\work\\BORME\\20090220-BORME-A-2009-35-39.pdf"
       ]
      },
      {
       "output_type": "stream",
       "stream": "stdout",
       "text": [
        "\n",
        "F:\\work\\BORME\\20090224-BORME-A-2009-37-12.pdf"
       ]
      },
      {
       "output_type": "stream",
       "stream": "stdout",
       "text": [
        "\n",
        "F:\\work\\BORME\\20090225-BORME-A-2009-38-50.pdf"
       ]
      },
      {
       "output_type": "stream",
       "stream": "stdout",
       "text": [
        "\n",
        "F:\\work\\BORME\\20090227-BORME-A-2009-40-35.pdf"
       ]
      },
      {
       "output_type": "stream",
       "stream": "stdout",
       "text": [
        "\n",
        "F:\\work\\BORME\\20090303-BORME-A-2009-42-12.pdf"
       ]
      },
      {
       "output_type": "stream",
       "stream": "stdout",
       "text": [
        "\n",
        "F:\\work\\BORME\\20090305-BORME-A-2009-44-04.pdf"
       ]
      },
      {
       "output_type": "stream",
       "stream": "stdout",
       "text": [
        "\n",
        "F:\\work\\BORME\\20090306-BORME-A-2009-45-46.pdf"
       ]
      },
      {
       "output_type": "stream",
       "stream": "stdout",
       "text": [
        "\n",
        "F:\\work\\BORME\\20090310-BORME-A-2009-47-30.pdf"
       ]
      },
      {
       "output_type": "stream",
       "stream": "stdout",
       "text": [
        "\n",
        "F:\\work\\BORME\\20090312-BORME-A-2009-49-08.pdf"
       ]
      },
      {
       "output_type": "stream",
       "stream": "stdout",
       "text": [
        "\n",
        "F:\\work\\BORME\\20090313-BORME-A-2009-50-40.pdf"
       ]
      },
      {
       "output_type": "stream",
       "stream": "stdout",
       "text": [
        "\n",
        "F:\\work\\BORME\\20090317-BORME-A-2009-52-25.pdf"
       ]
      },
      {
       "output_type": "stream",
       "stream": "stdout",
       "text": [
        "\n",
        "F:\\work\\BORME\\20090320-BORME-A-2009-54-06.pdf"
       ]
      },
      {
       "output_type": "stream",
       "stream": "stdout",
       "text": [
        "\n",
        "F:\\work\\BORME\\20090323-BORME-A-2009-55-45.pdf"
       ]
      },
      {
       "output_type": "stream",
       "stream": "stdout",
       "text": [
        "\n",
        "F:\\work\\BORME\\20090325-BORME-A-2009-57-27.pdf"
       ]
      },
      {
       "output_type": "stream",
       "stream": "stdout",
       "text": [
        "\n",
        "F:\\work\\BORME\\20090326-BORME-A-2009-58-50.pdf"
       ]
      },
      {
       "output_type": "stream",
       "stream": "stdout",
       "text": [
        "\n",
        "F:\\work\\BORME\\20090330-BORME-A-2009-60-26.pdf"
       ]
      },
      {
       "output_type": "stream",
       "stream": "stdout",
       "text": [
        "\n",
        "F:\\work\\BORME\\20090401-BORME-A-2009-62-15.pdf"
       ]
      },
      {
       "output_type": "stream",
       "stream": "stdout",
       "text": [
        "\n",
        "F:\\work\\BORME\\20090402-BORME-A-2009-63-50.pdf"
       ]
      },
      {
       "output_type": "stream",
       "stream": "stdout",
       "text": [
        "\n",
        "F:\\work\\BORME\\20090406-BORME-A-2009-65-20.pdf"
       ]
      },
      {
       "output_type": "stream",
       "stream": "stdout",
       "text": [
        "\n",
        "F:\\work\\BORME\\20090408-BORME-A-2009-67-07.pdf"
       ]
      },
      {
       "output_type": "stream",
       "stream": "stdout",
       "text": [
        "\n",
        "F:\\work\\BORME\\20090413-BORME-A-2009-68-33.pdf"
       ]
      },
      {
       "output_type": "stream",
       "stream": "stdout",
       "text": [
        "\n",
        "F:\\work\\BORME\\20090415-BORME-A-2009-70-15.pdf"
       ]
      },
      {
       "output_type": "stream",
       "stream": "stdout",
       "text": [
        "\n",
        "F:\\work\\BORME\\20090417-BORME-A-2009-72-09.pdf"
       ]
      },
      {
       "output_type": "stream",
       "stream": "stdout",
       "text": [
        "\n",
        "F:\\work\\BORME\\20090420-BORME-A-2009-73-50.pdf"
       ]
      },
      {
       "output_type": "stream",
       "stream": "stdout",
       "text": [
        "\n",
        "F:\\work\\BORME\\20090423-BORME-A-2009-76-03.pdf"
       ]
      },
      {
       "output_type": "stream",
       "stream": "stdout",
       "text": [
        "\n",
        "F:\\work\\BORME\\20090424-BORME-A-2009-77-39.pdf"
       ]
      },
      {
       "output_type": "stream",
       "stream": "stdout",
       "text": [
        "\n",
        "F:\\work\\BORME\\20090428-BORME-A-2009-79-25.pdf"
       ]
      },
      {
       "output_type": "stream",
       "stream": "stdout",
       "text": [
        "\n",
        "F:\\work\\BORME\\20090430-BORME-A-2009-81-09.pdf"
       ]
      },
      {
       "output_type": "stream",
       "stream": "stdout",
       "text": [
        "\n",
        "F:\\work\\BORME\\20090504-BORME-A-2009-82-33.pdf"
       ]
      },
      {
       "output_type": "stream",
       "stream": "stdout",
       "text": [
        "\n",
        "F:\\work\\BORME\\20090506-BORME-A-2009-84-17.pdf"
       ]
      },
      {
       "output_type": "stream",
       "stream": "stdout",
       "text": [
        "\n",
        "F:\\work\\BORME\\20090507-BORME-A-2009-85-51.pdf"
       ]
      },
      {
       "output_type": "stream",
       "stream": "stdout",
       "text": [
        "\n",
        "F:\\work\\BORME\\20090511-BORME-A-2009-87-36.pdf"
       ]
      },
      {
       "output_type": "stream",
       "stream": "stdout",
       "text": [
        "\n",
        "F:\\work\\BORME\\20090513-BORME-A-2009-89-20.pdf"
       ]
      },
      {
       "output_type": "stream",
       "stream": "stdout",
       "text": [
        "\n",
        "F:\\work\\BORME\\20090518-BORME-A-2009-91-06.pdf"
       ]
      },
      {
       "output_type": "stream",
       "stream": "stdout",
       "text": [
        "\n",
        "F:\\work\\BORME\\20090519-BORME-A-2009-92-41.pdf"
       ]
      },
      {
       "output_type": "stream",
       "stream": "stdout",
       "text": [
        "\n",
        "F:\\work\\BORME\\20090521-BORME-A-2009-94-25.pdf"
       ]
      },
      {
       "output_type": "stream",
       "stream": "stdout",
       "text": [
        "\n",
        "F:\\work\\BORME\\20090525-BORME-A-2009-96-08.pdf"
       ]
      },
      {
       "output_type": "stream",
       "stream": "stdout",
       "text": [
        "\n",
        "F:\\work\\BORME\\20090526-BORME-A-2009-97-32.pdf"
       ]
      },
      {
       "output_type": "stream",
       "stream": "stdout",
       "text": [
        "\n",
        "F:\\work\\BORME\\20090528-BORME-A-2009-99-14.pdf"
       ]
      },
      {
       "output_type": "stream",
       "stream": "stdout",
       "text": [
        "\n",
        "F:\\work\\BORME\\20090529-BORME-A-2009-100-46.pdf"
       ]
      },
      {
       "output_type": "stream",
       "stream": "stdout",
       "text": [
        "\n",
        "F:\\work\\BORME\\20090602-BORME-A-2009-102-33.pdf"
       ]
      },
      {
       "output_type": "stream",
       "stream": "stdout",
       "text": [
        "\n",
        "F:\\work\\BORME\\20090604-BORME-A-2009-104-25.pdf"
       ]
      },
      {
       "output_type": "stream",
       "stream": "stdout",
       "text": [
        "\n",
        "F:\\work\\BORME\\20090608-BORME-A-2009-106-20.pdf"
       ]
      },
      {
       "output_type": "stream",
       "stream": "stdout",
       "text": [
        "\n",
        "F:\\work\\BORME\\20090610-BORME-A-2009-108-30.pdf"
       ]
      },
      {
       "output_type": "stream",
       "stream": "stdout",
       "text": [
        "\n",
        "F:\\work\\BORME\\20090615-BORME-A-2009-110-23.pdf"
       ]
      },
      {
       "output_type": "stream",
       "stream": "stdout",
       "text": [
        "\n",
        "F:\\work\\BORME\\20090616-BORME-A-2009-111-44.pdf"
       ]
      },
      {
       "output_type": "stream",
       "stream": "stdout",
       "text": [
        "\n",
        "F:\\work\\BORME\\20090618-BORME-A-2009-113-29.pdf"
       ]
      },
      {
       "output_type": "stream",
       "stream": "stdout",
       "text": [
        "\n",
        "F:\\work\\BORME\\20090622-BORME-A-2009-115-20.pdf"
       ]
      },
      {
       "output_type": "stream",
       "stream": "stdout",
       "text": [
        "\n",
        "F:\\work\\BORME\\20090623-BORME-A-2009-116-37.pdf"
       ]
      },
      {
       "output_type": "stream",
       "stream": "stdout",
       "text": [
        "\n",
        "F:\\work\\BORME\\20090625-BORME-A-2009-118-28.pdf"
       ]
      },
      {
       "output_type": "stream",
       "stream": "stdout",
       "text": [
        "\n",
        "F:\\work\\BORME\\20090629-BORME-A-2009-120-13.pdf"
       ]
      },
      {
       "output_type": "stream",
       "stream": "stdout",
       "text": [
        "\n",
        "F:\\work\\BORME\\20090630-BORME-A-2009-121-40.pdf"
       ]
      },
      {
       "output_type": "stream",
       "stream": "stdout",
       "text": [
        "\n",
        "F:\\work\\BORME\\20090702-BORME-A-2009-123-39.pdf"
       ]
      },
      {
       "output_type": "stream",
       "stream": "stdout",
       "text": [
        "\n",
        "F:\\work\\BORME\\20090706-BORME-A-2009-125-23.pdf"
       ]
      },
      {
       "output_type": "stream",
       "stream": "stdout",
       "text": [
        "\n",
        "F:\\work\\BORME\\20090708-BORME-A-2009-127-18.pdf"
       ]
      },
      {
       "output_type": "stream",
       "stream": "stdout",
       "text": [
        "\n",
        "F:\\work\\BORME\\20090710-BORME-A-2009-129-12.pdf"
       ]
      },
      {
       "output_type": "stream",
       "stream": "stdout",
       "text": [
        "\n",
        "F:\\work\\BORME\\20090713-BORME-A-2009-130-35.pdf"
       ]
      },
      {
       "output_type": "stream",
       "stream": "stdout",
       "text": [
        "\n",
        "F:\\work\\BORME\\20090715-BORME-A-2009-132-28.pdf"
       ]
      },
      {
       "output_type": "stream",
       "stream": "stdout",
       "text": [
        "\n",
        "F:\\work\\BORME\\20090717-BORME-A-2009-134-25.pdf"
       ]
      },
      {
       "output_type": "stream",
       "stream": "stdout",
       "text": [
        "\n",
        "F:\\work\\BORME\\20090721-BORME-A-2009-136-04.pdf"
       ]
      },
      {
       "output_type": "stream",
       "stream": "stdout",
       "text": [
        "\n",
        "F:\\work\\BORME\\20090723-BORME-A-2009-138-04.pdf"
       ]
      },
      {
       "output_type": "stream",
       "stream": "stdout",
       "text": [
        "\n",
        "F:\\work\\BORME\\20090724-BORME-A-2009-139-46.pdf"
       ]
      },
      {
       "output_type": "stream",
       "stream": "stdout",
       "text": [
        "\n",
        "F:\\work\\BORME\\20090728-BORME-A-2009-141-23.pdf"
       ]
      },
      {
       "output_type": "stream",
       "stream": "stdout",
       "text": [
        "\n",
        "F:\\work\\BORME\\20090730-BORME-A-2009-143-14.pdf"
       ]
      },
      {
       "output_type": "stream",
       "stream": "stdout",
       "text": [
        "\n",
        "F:\\work\\BORME\\20090803-BORME-A-2009-145-12.pdf"
       ]
      },
      {
       "output_type": "stream",
       "stream": "stdout",
       "text": [
        "\n",
        "F:\\work\\BORME\\20090804-BORME-A-2009-146-39.pdf"
       ]
      },
      {
       "output_type": "stream",
       "stream": "stdout",
       "text": [
        "\n",
        "F:\\work\\BORME\\20090806-BORME-A-2009-148-38.pdf"
       ]
      },
      {
       "output_type": "stream",
       "stream": "stdout",
       "text": [
        "\n",
        "F:\\work\\BORME\\20090810-BORME-A-2009-150-27.pdf"
       ]
      },
      {
       "output_type": "stream",
       "stream": "stdout",
       "text": [
        "\n",
        "F:\\work\\BORME\\20090812-BORME-A-2009-152-14.pdf"
       ]
      },
      {
       "output_type": "stream",
       "stream": "stdout",
       "text": [
        "\n",
        "F:\\work\\BORME\\20090814-BORME-A-2009-154-18.pdf"
       ]
      },
      {
       "output_type": "stream",
       "stream": "stdout",
       "text": [
        "\n",
        "F:\\work\\BORME\\20090818-BORME-A-2009-156-04.pdf"
       ]
      },
      {
       "output_type": "stream",
       "stream": "stdout",
       "text": [
        "\n",
        "F:\\work\\BORME\\20090819-BORME-A-2009-157-39.pdf"
       ]
      },
      {
       "output_type": "stream",
       "stream": "stdout",
       "text": [
        "\n",
        "F:\\work\\BORME\\20090821-BORME-A-2009-159-43.pdf"
       ]
      },
      {
       "output_type": "stream",
       "stream": "stdout",
       "text": [
        "\n",
        "F:\\work\\BORME\\20090825-BORME-A-2009-161-33.pdf"
       ]
      },
      {
       "output_type": "stream",
       "stream": "stdout",
       "text": [
        "\n",
        "F:\\work\\BORME\\20090827-BORME-A-2009-163-23.pdf"
       ]
      },
      {
       "output_type": "stream",
       "stream": "stdout",
       "text": [
        "\n",
        "F:\\work\\BORME\\20090831-BORME-A-2009-165-15.pdf"
       ]
      },
      {
       "output_type": "stream",
       "stream": "stdout",
       "text": [
        "\n",
        "F:\\work\\BORME\\20090902-BORME-A-2009-167-09.pdf"
       ]
      },
      {
       "output_type": "stream",
       "stream": "stdout",
       "text": [
        "\n",
        "F:\\work\\BORME\\20090904-BORME-A-2009-169-11.pdf"
       ]
      },
      {
       "output_type": "stream",
       "stream": "stdout",
       "text": [
        "\n",
        "F:\\work\\BORME\\20090907-BORME-A-2009-170-47.pdf"
       ]
      },
      {
       "output_type": "stream",
       "stream": "stdout",
       "text": [
        "\n",
        "F:\\work\\BORME\\20090909-BORME-A-2009-172-41.pdf"
       ]
      },
      {
       "output_type": "stream",
       "stream": "stdout",
       "text": [
        "\n",
        "F:\\work\\BORME\\20090911-BORME-A-2009-174-25.pdf"
       ]
      },
      {
       "output_type": "stream",
       "stream": "stdout",
       "text": [
        "\n",
        "F:\\work\\BORME\\20090915-BORME-A-2009-176-19.pdf"
       ]
      },
      {
       "output_type": "stream",
       "stream": "stdout",
       "text": [
        "\n",
        "F:\\work\\BORME\\20090917-BORME-A-2009-178-24.pdf"
       ]
      },
      {
       "output_type": "stream",
       "stream": "stdout",
       "text": [
        "\n",
        "F:\\work\\BORME\\20090921-BORME-A-2009-180-17.pdf"
       ]
      },
      {
       "output_type": "stream",
       "stream": "stdout",
       "text": [
        "\n",
        "F:\\work\\BORME\\20090923-BORME-A-2009-182-07.pdf"
       ]
      },
      {
       "output_type": "stream",
       "stream": "stdout",
       "text": [
        "\n",
        "F:\\work\\BORME\\20090925-BORME-A-2009-184-02.pdf"
       ]
      },
      {
       "output_type": "stream",
       "stream": "stdout",
       "text": [
        "\n",
        "F:\\work\\BORME\\20090928-BORME-A-2009-185-48.pdf"
       ]
      },
      {
       "output_type": "stream",
       "stream": "stdout",
       "text": [
        "\n",
        "F:\\work\\BORME\\20090930-BORME-A-2009-187-22.pdf"
       ]
      },
      {
       "output_type": "stream",
       "stream": "stdout",
       "text": [
        "\n",
        "F:\\work\\BORME\\20091002-BORME-A-2009-189-17.pdf"
       ]
      },
      {
       "output_type": "stream",
       "stream": "stdout",
       "text": [
        "\n",
        "F:\\work\\BORME\\20091005-BORME-A-2009-190-50.pdf"
       ]
      },
      {
       "output_type": "stream",
       "stream": "stdout",
       "text": [
        "\n",
        "F:\\work\\BORME\\20091007-BORME-A-2009-192-36.pdf"
       ]
      },
      {
       "output_type": "stream",
       "stream": "stdout",
       "text": [
        "\n",
        "F:\\work\\BORME\\20091009-BORME-A-2009-194-17.pdf"
       ]
      },
      {
       "output_type": "stream",
       "stream": "stdout",
       "text": [
        "\n",
        "F:\\work\\BORME\\20091014-BORME-A-2009-196-12.pdf"
       ]
      },
      {
       "output_type": "stream",
       "stream": "stdout",
       "text": [
        "\n",
        "F:\\work\\BORME\\20091016-BORME-A-2009-198-12.pdf"
       ]
      },
      {
       "output_type": "stream",
       "stream": "stdout",
       "text": [
        "\n",
        "F:\\work\\BORME\\20091020-BORME-A-2009-200-12.pdf"
       ]
      },
      {
       "output_type": "stream",
       "stream": "stdout",
       "text": [
        "\n",
        "F:\\work\\BORME\\20091022-BORME-A-2009-202-07.pdf"
       ]
      },
      {
       "output_type": "stream",
       "stream": "stdout",
       "text": [
        "\n",
        "F:\\work\\BORME\\20091023-BORME-A-2009-203-40.pdf"
       ]
      },
      {
       "output_type": "stream",
       "stream": "stdout",
       "text": [
        "\n",
        "F:\\work\\BORME\\20091027-BORME-A-2009-205-23.pdf"
       ]
      },
      {
       "output_type": "stream",
       "stream": "stdout",
       "text": [
        "\n",
        "F:\\work\\BORME\\20091029-BORME-A-2009-207-09.pdf"
       ]
      },
      {
       "output_type": "stream",
       "stream": "stdout",
       "text": [
        "\n",
        "F:\\work\\BORME\\20091030-BORME-A-2009-208-35.pdf"
       ]
      },
      {
       "output_type": "stream",
       "stream": "stdout",
       "text": [
        "\n",
        "F:\\work\\BORME\\20091103-BORME-A-2009-210-25.pdf"
       ]
      },
      {
       "output_type": "stream",
       "stream": "stdout",
       "text": [
        "\n",
        "F:\\work\\BORME\\20091105-BORME-A-2009-212-12.pdf"
       ]
      },
      {
       "output_type": "stream",
       "stream": "stdout",
       "text": [
        "\n",
        "F:\\work\\BORME\\20091106-BORME-A-2009-213-51.pdf"
       ]
      },
      {
       "output_type": "stream",
       "stream": "stdout",
       "text": [
        "\n",
        "F:\\work\\BORME\\20091111-BORME-A-2009-215-45.pdf"
       ]
      },
      {
       "output_type": "stream",
       "stream": "stdout",
       "text": [
        "\n",
        "F:\\work\\BORME\\20091116-BORME-A-2009-218-03.pdf"
       ]
      },
      {
       "output_type": "stream",
       "stream": "stdout",
       "text": [
        "\n",
        "F:\\work\\BORME\\20091117-BORME-A-2009-219-46.pdf"
       ]
      },
      {
       "output_type": "stream",
       "stream": "stdout",
       "text": [
        "\n",
        "F:\\work\\BORME\\20091119-BORME-A-2009-221-06.pdf"
       ]
      },
      {
       "output_type": "stream",
       "stream": "stdout",
       "text": [
        "\n",
        "F:\\work\\BORME\\20091120-BORME-A-2009-222-40.pdf"
       ]
      },
      {
       "output_type": "stream",
       "stream": "stdout",
       "text": [
        "\n",
        "F:\\work\\BORME\\20091124-BORME-A-2009-224-18.pdf"
       ]
      },
      {
       "output_type": "stream",
       "stream": "stdout",
       "text": [
        "\n",
        "F:\\work\\BORME\\20091126-BORME-A-2009-226-06.pdf"
       ]
      },
      {
       "output_type": "stream",
       "stream": "stdout",
       "text": [
        "\n",
        "F:\\work\\BORME\\20091127-BORME-A-2009-227-38.pdf"
       ]
      },
      {
       "output_type": "stream",
       "stream": "stdout",
       "text": [
        "\n",
        "F:\\work\\BORME\\20091201-BORME-A-2009-229-33.pdf"
       ]
      },
      {
       "output_type": "stream",
       "stream": "stdout",
       "text": [
        "\n",
        "F:\\work\\BORME\\20091203-BORME-A-2009-231-31.pdf"
       ]
      },
      {
       "output_type": "stream",
       "stream": "stdout",
       "text": [
        "\n",
        "F:\\work\\BORME\\20091207-BORME-A-2009-233-12.pdf"
       ]
      },
      {
       "output_type": "stream",
       "stream": "stdout",
       "text": [
        "\n",
        "F:\\work\\BORME\\20091209-BORME-A-2009-234-46.pdf"
       ]
      },
      {
       "output_type": "stream",
       "stream": "stdout",
       "text": [
        "\n",
        "F:\\work\\BORME\\20091211-BORME-A-2009-236-28.pdf"
       ]
      },
      {
       "output_type": "stream",
       "stream": "stdout",
       "text": [
        "\n",
        "F:\\work\\BORME\\20091215-BORME-A-2009-238-11.pdf"
       ]
      },
      {
       "output_type": "stream",
       "stream": "stdout",
       "text": [
        "\n",
        "F:\\work\\BORME\\20091217-BORME-A-2009-240-27.pdf"
       ]
      },
      {
       "output_type": "stream",
       "stream": "stdout",
       "text": [
        "\n",
        "F:\\work\\BORME\\20091221-BORME-A-2009-242-24.pdf"
       ]
      },
      {
       "output_type": "stream",
       "stream": "stdout",
       "text": [
        "\n",
        "F:\\work\\BORME\\20091223-BORME-A-2009-244-23.pdf"
       ]
      },
      {
       "output_type": "stream",
       "stream": "stdout",
       "text": [
        "\n",
        "F:\\work\\BORME\\20091228-BORME-A-2009-246-04.pdf"
       ]
      },
      {
       "output_type": "stream",
       "stream": "stdout",
       "text": [
        "\n",
        "F:\\work\\BORME\\20091229-BORME-A-2009-247-40.pdf"
       ]
      },
      {
       "output_type": "stream",
       "stream": "stdout",
       "text": [
        "\n",
        "F:\\work\\BORME\\20091231-BORME-A-2009-249-30.pdf"
       ]
      },
      {
       "output_type": "stream",
       "stream": "stdout",
       "text": [
        "\n"
       ]
      }
     ],
     "prompt_number": 18
    },
    {
     "cell_type": "code",
     "collapsed": false,
     "input": [
      "def convert_pdf_to_txt(path):\n",
      "    rsrcmgr = PDFResourceManager()\n",
      "    retstr = StringIO()\n",
      "    codec = 'utf-8'\n",
      "    laparams = LAParams( word_margin = 2)\n",
      "    device = TextConverter(rsrcmgr, retstr, codec=codec, laparams=laparams)\n",
      "    fp = file(path, 'rb')\n",
      "    interpreter = PDFPageInterpreter(rsrcmgr, device)\n",
      "    password = \"\"\n",
      "    maxpages = 0\n",
      "    caching = True\n",
      "    pagenos=set()\n",
      "    for page in PDFPage.get_pages(fp, pagenos, maxpages=maxpages, password=password,caching=caching, check_extractable=True):\n",
      "        interpreter.process_page(page)\n",
      "    fp.close()\n",
      "    device.close()\n",
      "    str = retstr.getvalue()\n",
      "    retstr.close()\n",
      "    return str"
     ],
     "language": "python",
     "metadata": {},
     "outputs": [],
     "prompt_number": 14
    },
    {
     "cell_type": "code",
     "collapsed": false,
     "input": [
      "f_txt = convert_pdf_to_txt('F:\\\\work\\\\BORME\\\\20091116-BORME-A-2009-218-08.pdf')"
     ],
     "language": "python",
     "metadata": {},
     "outputs": [],
     "prompt_number": 15
    },
    {
     "cell_type": "code",
     "collapsed": false,
     "input": [
      "nombreBorme =\"BORME-A-2011-167-28\"\n",
      "a = convert_pdf_to_txt(\"F:\\\\work\\\\BORME\\\\BORME-A-2011-167-28.pdf\")\n",
      "    "
     ],
     "language": "python",
     "metadata": {},
     "outputs": [],
     "prompt_number": 154
    },
    {
     "cell_type": "code",
     "collapsed": false,
     "input": [
      "# clean document\n",
      "#get rid of serial name\n",
      "name = \"BORME-A-2011-167-28\"\n",
      "n = name.replace('-','',1)[::-1]\n",
      "w = '\\n'.join(n)\n",
      "q = w + '\\n\\n-\\n\\n \\n:\\ne\\nv\\nc'\n",
      "text= a.replace(q,'')\n",
      "text = text.replace('Adm. Solid.','AdmSolid')\n",
      "text = text.replace('Adm. Unico','AdmUnico')\n",
      "text = text.replace('Adm.  Unico','AdmUnico')\n",
      "text = text.replace('Adm. Mancom.','AdmMancom')\n",
      "\n",
      "# get ride of spaces\n",
      "lines = [b for b in text.split('\\n') if b <> ''] \n",
      "\n",
      "\n",
      "\n",
      "\n"
     ],
     "language": "python",
     "metadata": {},
     "outputs": [],
     "prompt_number": 155
    },
    {
     "cell_type": "code",
     "collapsed": false,
     "input": [
      "indices = [i for i, x in enumerate(lines) if  \"BOLET\u00cdN OFICIAL DEL REGISTRO MERCANTIL\" in x]\n",
      "nlines = len(lines)\n",
      "for ind in indices:\n",
      "    if (nlines - 4) > ind:\n",
      "        lines[ind] = 'ESTA@LINEA#ES+PARA*BORRAR'\n",
      "        lines[ind+1] = 'ESTA@LINEA#ES+PARA*BORRAR'\n",
      "        lines[ind+2] = 'ESTA@LINEA#ES+PARA*BORRAR'\n",
      "        lines[ind+3] = 'ESTA@LINEA#ES+PARA*BORRAR'\n",
      "    else:\n",
      "        lines[ind-1] = 'ESTA@LINEA#ES+PARA*BORRAR'\n",
      "        lines[ind] = 'ESTA@LINEA#ES+PARA*BORRAR'\n",
      "        lines[ind+1] = 'ESTA@LINEA#ES+PARA*BORRAR'\n",
      "lines[4] = 'ESTA@LINEA#ES+PARA*BORRAR'\n",
      "lines[5] = 'ESTA@LINEA#ES+PARA*BORRAR'\n",
      "lines[6] = 'ESTA@LINEA#ES+PARA*BORRAR'\n",
      "lines[7] = 'ESTA@LINEA#ES+PARA*BORRAR'\n",
      "lines = [x for x in lines if x <> 'ESTA@LINEA#ES+PARA*BORRAR']\n",
      "    \n",
      "#del lines[ind]"
     ],
     "language": "python",
     "metadata": {},
     "outputs": [],
     "prompt_number": 156
    },
    {
     "cell_type": "code",
     "collapsed": false,
     "input": [],
     "language": "python",
     "metadata": {},
     "outputs": []
    },
    {
     "cell_type": "code",
     "collapsed": false,
     "input": [
      "\n",
      "# find indices\n",
      "\n",
      "indices = []\n",
      "contador = 0\n",
      "for line in lines:\n",
      "    words = [word for word in line.split(' ')]\n",
      "    if len(words) > 2:\n",
      "        if words[1] == '-' and not re.match('\\D',words[0]):\n",
      "            #print(line)\n",
      "            indices.append(contador)\n",
      "    contador = contador + 1\n",
      "indices.append(len(lines)-1)\n",
      "print(indices)"
     ],
     "language": "python",
     "metadata": {},
     "outputs": [
      {
       "output_type": "stream",
       "stream": "stdout",
       "text": [
        "[0, 3, 8, 11, 16, 19, 22, 25, 28, 31, 35, 38, 41, 44, 51, 56, 58, 61, 66, 68, 71, 74, 77, 80, 83, 86, 90, 93, 96, 100, 103, 105, 112, 116, 119, 122, 125, 132, 136, 139, 142, 145, 148, 151, 157, 160, 164, 169, 173, 177, 182, 185, 191, 194, 197, 200, 202, 205, 210, 212, 216, 222, 224, 227, 230, 233, 235, 238, 241, 245, 251, 254, 260, 263, 266, 271, 274, 277, 280, 283, 291, 295, 301, 306, 312, 315, 318, 322, 325, 329, 331, 334, 338, 341, 347, 350, 353, 356, 364, 369, 372, 377, 379, 382, 385, 389, 394, 400, 404, 406, 408, 410, 413, 415, 418, 422, 425, 432, 435, 438, 442, 446, 450, 453, 456, 461, 464, 466, 470, 473, 476, 483, 498, 501, 504, 507, 514, 518, 521, 526, 529, 532, 534, 539, 542, 549, 552, 555, 557, 560, 563, 566, 570, 573, 576, 579, 583, 589, 592, 595, 598, 600, 603, 606, 609, 620, 624, 628, 631, 636, 672, 698, 701, 704, 707, 711, 714, 716, 719, 722, 726, 730, 734, 741, 744, 750, 754, 760, 769, 772, 774, 778, 785, 789, 793, 797, 800, 803, 805, 809, 811, 814, 819, 823, 829, 832, 836, 840, 843, 846, 852, 856, 859, 862, 867, 870, 872, 879, 884, 888, 891, 896, 899, 904, 909, 912, 915, 918, 921, 924, 927, 930, 936, 939, 942, 945, 951, 957, 959, 961, 964, 971, 973, 976, 979, 984, 987, 990, 994, 998, 1003, 1009, 1012, 1017, 1021, 1024, 1027, 1030, 1033, 1040, 1043, 1046, 1052, 1058, 1071]\n"
       ]
      }
     ],
     "prompt_number": 157
    },
    {
     "cell_type": "code",
     "collapsed": false,
     "input": [
      "#initialize client\n",
      "from pymongo import MongoClient\n",
      "client = MongoClient()\n",
      "\n",
      "# set server\n",
      "client = MongoClient('mongodb://localhost:27017/')\n",
      "# set database\n",
      "db = client.borme\n",
      "\n",
      "#set collection\n",
      "facts = db.facts"
     ],
     "language": "python",
     "metadata": {},
     "outputs": [],
     "prompt_number": 137
    },
    {
     "cell_type": "code",
     "collapsed": false,
     "input": [
      "nombreBorme =\"BORME-A-2011-167-28\"\n",
      "nBorme = nombreBorme.split('-')\n",
      "for i in range(len(indices)-1):\n",
      "#for i in range(2):\n",
      "    j=i\n",
      "    post = {}\n",
      "    post['Empresa']=lines[indices[i]].split(' - ')[1]\n",
      "    post['Registro']=lines[indices[i]].split(' - ')[0]\n",
      "    post['Anyo']=nBorme[2]\n",
      "    post['Dia']=nBorme[3]\n",
      "    post['Seccion']=nBorme[1]\n",
      "    post['Provincia']=nBorme[4]\n",
      "    ori = ''.join(lines[indices[i]+1:indices[i+1]])\n",
      "    xml=convert_fact_to_xml(ori)\n",
      "    xml = xml + '\">'\n",
      "    xml = xml[2:len(xml)]\n",
      "    soup = BeautifulSoup(xml)\n",
      "    for f in soup.findAll('b'):\n",
      "        #print(str(f['class'][0]) + ':' + str(f['value']))\n",
      "        post[f['class'][0]]=f['value']\n",
      "    fact_id = facts.insert(post)"
     ],
     "language": "python",
     "metadata": {},
     "outputs": [],
     "prompt_number": 158
    },
    {
     "cell_type": "code",
     "collapsed": false,
     "input": [
      "post\n",
      "\n"
     ],
     "language": "python",
     "metadata": {},
     "outputs": [
      {
       "metadata": {},
       "output_type": "pyout",
       "prompt_number": 151,
       "text": [
        "{'Anyo': '2011',\n",
        " 'Ceses/Dimisiones': '.  AdmSolid: SANTOS MONTESINOS MARIA TERESA;ARGANZA ALVARO PATRICIA;ABAD MARTURETFRANCISCO JAVIER.  ',\n",
        " 'Datosregistrales': '. T 22627 , F 182, S 8, H M 404629, I/A 2 (8.08.11).',\n",
        " 'Dia': '167',\n",
        " u'Disoluci\\xf3n': '.  Voluntaria.  ',\n",
        " 'Empresa': 'ARDANTOS INVERSIONES SL.',\n",
        " u'Extinci\\xf3n': '.  ',\n",
        " 'Nombramientos': '.  LiquiSoli: SANTOS MONTESINOS MARIA TERESA;ARGANZA ALVARO PATRICIA;ABADMARTURET FRANCISCO JAVIER.  ',\n",
        " 'Provincia': '28',\n",
        " 'Registro': '358779',\n",
        " 'Seccion': 'A'}"
       ]
      }
     ],
     "prompt_number": 151
    },
    {
     "cell_type": "code",
     "collapsed": false,
     "input": [
      "post ={}\n",
      "for c in q.findAll('b'):\n",
      "    print(str(c['class'][0]) + ':' + str(c['value']))\n",
      "    post[str(c['class'][0])]=str(c['value'])"
     ],
     "language": "python",
     "metadata": {},
     "outputs": [
      {
       "output_type": "stream",
       "stream": "stdout",
       "text": [
        "Ceses/Dimisiones:.  Consejero: USERA MAGDALENA BELTRAN.  \n",
        "Nombramientos:.  Consejero: BLANCO BRAVO SARA MARIA.\n",
        "Datosregistrales:. T 23833 , F 207, S 8, H M 427795, I/A 3 ( 8.08.11).\n"
       ]
      }
     ],
     "prompt_number": 95
    },
    {
     "cell_type": "code",
     "collapsed": false,
     "input": [
      "post"
     ],
     "language": "python",
     "metadata": {},
     "outputs": [
      {
       "metadata": {},
       "output_type": "pyout",
       "prompt_number": 96,
       "text": [
        "{'Ceses/Dimisiones': '.  Consejero: USERA MAGDALENA BELTRAN.  ',\n",
        " 'Datosregistrales': '. T 23833 , F 207, S 8, H M 427795, I/A 3 ( 8.08.11).',\n",
        " 'Nombramientos': '.  Consejero: BLANCO BRAVO SARA MARIA.'}"
       ]
      }
     ],
     "prompt_number": 96
    },
    {
     "cell_type": "code",
     "collapsed": false,
     "input": [
      "print(u.read)\n"
     ],
     "language": "python",
     "metadata": {},
     "outputs": [
      {
       "output_type": "stream",
       "stream": "stdout",
       "text": [
        "<bound method _fileobject.read of <socket._fileobject object at 0x00000000059429A8>>\n"
       ]
      }
     ],
     "prompt_number": 20
    },
    {
     "cell_type": "code",
     "collapsed": false,
     "input": [
      "ori"
     ],
     "language": "python",
     "metadata": {},
     "outputs": [
      {
       "ename": "NameError",
       "evalue": "name 'ori' is not defined",
       "output_type": "pyerr",
       "traceback": [
        "\u001b[1;31m---------------------------------------------------------------------------\u001b[0m\n\u001b[1;31mNameError\u001b[0m                                 Traceback (most recent call last)",
        "\u001b[1;32m<ipython-input-46-ec0b4a2f6c54>\u001b[0m in \u001b[0;36m<module>\u001b[1;34m()\u001b[0m\n\u001b[1;32m----> 1\u001b[1;33m \u001b[0mori\u001b[0m\u001b[1;33m\u001b[0m\u001b[0m\n\u001b[0m",
        "\u001b[1;31mNameError\u001b[0m: name 'ori' is not defined"
       ]
      }
     ],
     "prompt_number": 46
    },
    {
     "cell_type": "code",
     "collapsed": false,
     "input": [
      "ori = 'Ceses/Dimisiones.  AdmUnico: FUCI\u00d1OS MUNIN FRANCISCO.  Nombramientos.  AdmUnico: FILGUEIRA GIL ANA.  Datosregistrales. T 1179 , F 192, S 8, H VI 10507, I/A 3 (19.12.08).'\n",
      "re.sub(r'Datos *registrales','\"><b class=\"Datosregistrales\" value=\"',ori)"
     ],
     "language": "python",
     "metadata": {},
     "outputs": [
      {
       "metadata": {},
       "output_type": "pyout",
       "prompt_number": 50,
       "text": [
        "'Ceses/Dimisiones.  AdmUnico: FUCI\\xc3\\x91OS MUNIN FRANCISCO.  Nombramientos.  AdmUnico: FILGUEIRA GIL ANA.  \"><b class=\"Datosregistrales\" value=\". T 1179 , F 192, S 8, H VI 10507, I/A 3 (19.12.08).'"
       ]
      }
     ],
     "prompt_number": 50
    },
    {
     "cell_type": "code",
     "collapsed": false,
     "input": [],
     "language": "python",
     "metadata": {},
     "outputs": []
    }
   ],
   "metadata": {}
  }
 ]
}