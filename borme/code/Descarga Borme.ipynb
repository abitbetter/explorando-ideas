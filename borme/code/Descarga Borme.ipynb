{
 "metadata": {
  "name": ""
 },
 "nbformat": 3,
 "nbformat_minor": 0,
 "worksheets": [
  {
   "cells": [
    {
     "cell_type": "code",
     "collapsed": false,
     "input": [
      "import urllib2\n",
      "import re\n",
      "from bs4 import BeautifulSoup\n",
      "import wget"
     ],
     "language": "python",
     "metadata": {},
     "outputs": [],
     "prompt_number": 1
    },
    {
     "cell_type": "code",
     "collapsed": false,
     "input": [
      "seed = \"https://www.boe.es\"\n",
      "pages = [\"https://www.boe.es/diario_borme/calendarios.php?a=2009\",\"https://www.boe.es/diario_borme/calendarios.php?a=2010\",\n",
      "         \"https://www.boe.es/diario_borme/calendarios.php?a=2011\",\"https://www.boe.es/diario_borme/calendarios.php?a=2012\",\n",
      "         \"https://www.boe.es/diario_borme/calendarios.php?a=2013\",\"https://www.boe.es/diario_borme/calendarios.php?a=2014\"]\n",
      "pages = [\"https://www.boe.es/diario_borme/calendarios.php?a=2012\",\n",
      "         \"https://www.boe.es/diario_borme/calendarios.php?a=2013\",\"https://www.boe.es/diario_borme/calendarios.php?a=2014\"]\n",
      "pages = [\"https://www.boe.es/diario_borme/calendarios.php?a=2011\"]"
     ],
     "language": "python",
     "metadata": {},
     "outputs": [],
     "prompt_number": 9
    },
    {
     "cell_type": "code",
     "collapsed": false,
     "input": [
      "contador = 0\n",
      "for page in pages:\n",
      "    soup = BeautifulSoup(urllib2.urlopen(page))\n",
      "    for link in soup.findAll('a', href=re.compile('/borme/dias')):\n",
      "        web_link = seed + link['href']\n",
      "        if ''.join(web_link.split('/')[5:8]) > \"20140810\":\n",
      "            subpage = urllib2.urlopen(web_link)\n",
      "            subsoup = BeautifulSoup(subpage)\n",
      "            for pdf in subsoup.findAll('a', href=re.compile('pdf')):\n",
      "                pdf_link = web_link + pdf['href']\n",
      "                if (contador % 50) == 0:\n",
      "                    print(pdf_link)\n",
      "                contador = contador + 1\n",
      "                fileName = \"F:\\\\work\\\\BORME\\\\\" + ''.join(pdf_link.split('/')[5:8]) + '-' + pdf['href'].split('/')[1]\n",
      "                response = urllib2.urlopen(pdf_link)\n",
      "                with open(fileName, 'wb') as f: f.write(response.read())\n",
      "            "
     ],
     "language": "python",
     "metadata": {},
     "outputs": [
      {
       "output_type": "stream",
       "stream": "stdout",
       "text": [
        "https://www.boe.es/borme/dias/2011/12/01/pdfs/BORME-S-2011-228.pdf\n",
        "https://www.boe.es/borme/dias/2011/12/02/pdfs/BORME-A-2011-229-30.pdf"
       ]
      },
      {
       "output_type": "stream",
       "stream": "stdout",
       "text": [
        "\n",
        "https://www.boe.es/borme/dias/2011/12/07/pdfs/BORME-A-2011-231-06.pdf"
       ]
      },
      {
       "output_type": "stream",
       "stream": "stdout",
       "text": [
        "\n",
        "https://www.boe.es/borme/dias/2011/12/09/pdfs/BORME-A-2011-232-28.pdf"
       ]
      },
      {
       "output_type": "stream",
       "stream": "stdout",
       "text": [
        "\n",
        "https://www.boe.es/borme/dias/2011/12/13/pdfs/BORME-A-2011-234-06.pdf"
       ]
      },
      {
       "output_type": "stream",
       "stream": "stdout",
       "text": [
        "\n",
        "https://www.boe.es/borme/dias/2011/12/14/pdfs/BORME-A-2011-235-28.pdf"
       ]
      },
      {
       "output_type": "stream",
       "stream": "stdout",
       "text": [
        "\n",
        "https://www.boe.es/borme/dias/2011/12/16/pdfs/BORME-A-2011-237-18.pdf"
       ]
      },
      {
       "output_type": "stream",
       "stream": "stdout",
       "text": [
        "\n",
        "https://www.boe.es/borme/dias/2011/12/20/pdfs/BORME-A-2011-239-29.pdf"
       ]
      },
      {
       "output_type": "stream",
       "stream": "stdout",
       "text": [
        "\n",
        "https://www.boe.es/borme/dias/2011/12/22/pdfs/BORME-A-2011-241-03.pdf"
       ]
      },
      {
       "output_type": "stream",
       "stream": "stdout",
       "text": [
        "\n",
        "https://www.boe.es/borme/dias/2011/12/23/pdfs/BORME-A-2011-242-30.pdf"
       ]
      },
      {
       "output_type": "stream",
       "stream": "stdout",
       "text": [
        "\n",
        "https://www.boe.es/borme/dias/2011/12/27/pdfs/BORME-A-2011-244-09.pdf"
       ]
      },
      {
       "output_type": "stream",
       "stream": "stdout",
       "text": [
        "\n",
        "https://www.boe.es/borme/dias/2011/12/28/pdfs/BORME-A-2011-245-35.pdf"
       ]
      },
      {
       "output_type": "stream",
       "stream": "stdout",
       "text": [
        "\n",
        "https://www.boe.es/borme/dias/2011/12/30/pdfs/BORME-A-2011-247-23.pdf"
       ]
      },
      {
       "output_type": "stream",
       "stream": "stdout",
       "text": [
        "\n"
       ]
      }
     ],
     "prompt_number": 11
    },
    {
     "cell_type": "code",
     "collapsed": false,
     "input": [
      "print(web_link)\n",
      "''.join(web_link.split('/')[5:8])"
     ],
     "language": "python",
     "metadata": {},
     "outputs": [
      {
       "output_type": "stream",
       "stream": "stdout",
       "text": [
        "https://www.boe.es/borme/dias/2011/12/30/\n"
       ]
      },
      {
       "metadata": {},
       "output_type": "pyout",
       "prompt_number": 14,
       "text": [
        "'20111230'"
       ]
      }
     ],
     "prompt_number": 14
    },
    {
     "cell_type": "code",
     "collapsed": false,
     "input": [
      "import urllib2\n",
      "\n",
      "# file to be written to\n",
      "file = \"downloaded_file.html\"\n",
      "\n",
      "url = \"http://www.pythonforbeginners.com/\"\n",
      "response = urllib2.urlopen(url)\n",
      "\n",
      "#open the file for writing\n",
      "fh = open(file, \"w\")\n",
      "\n",
      "# read from request while writing to file\n",
      "fh.write(response.read())\n",
      "fh.close()\n",
      "\n",
      "# You can also use the with statement:\n",
      "with open(file, 'w') as f: f.write(response.read())"
     ],
     "language": "python",
     "metadata": {},
     "outputs": []
    },
    {
     "cell_type": "code",
     "collapsed": false,
     "input": [
      "link = soup.find('a', href=re.compile('/borme/dias'))"
     ],
     "language": "python",
     "metadata": {},
     "outputs": [],
     "prompt_number": 13
    },
    {
     "cell_type": "code",
     "collapsed": false,
     "input": [
      "web_link = seed + link['href']"
     ],
     "language": "python",
     "metadata": {},
     "outputs": [],
     "prompt_number": 24
    },
    {
     "cell_type": "code",
     "collapsed": false,
     "input": [
      "page = urllib2.urlopen(web_link)\n",
      "soup = BeautifulSoup(page)"
     ],
     "language": "python",
     "metadata": {},
     "outputs": [],
     "prompt_number": 26
    },
    {
     "cell_type": "code",
     "collapsed": false,
     "input": [
      "links = soup.findAll('a', href=re.compile('pdf'))\n",
      "for link in links:\n",
      "    print(link)"
     ],
     "language": "python",
     "metadata": {},
     "outputs": [
      {
       "output_type": "stream",
       "stream": "stdout",
       "text": [
        "<a href=\"pdfs/BORME-S-2009-1.pdf\" onclick=\"javascript: pageTracker._trackPageview('pdfs/BORME-S-2009-1.pdf');\" title=\"BORME-S-2009-1 en formato PDF firmado \">PDF</a>\n",
        "<a href=\"pdfs/BORME-A-2009-1-01.pdf\" onclick=\"javascript: pageTracker._trackPageview('pdfs/BORME-A-2009-1-01.pdf');\" title=\"PDF firmado BORME-A-2009-1-01\">PDF (BORME-A-2009-1-01 - 189 <abbr title=\"kilobytes\">KB</abbr>)</a>\n",
        "<a href=\"pdfs/BORME-A-2009-1-02.pdf\" onclick=\"javascript: pageTracker._trackPageview('pdfs/BORME-A-2009-1-02.pdf');\" title=\"PDF firmado BORME-A-2009-1-02\">PDF (BORME-A-2009-1-02 - 139 <abbr title=\"kilobytes\">KB</abbr>)</a>\n",
        "<a href=\"pdfs/BORME-A-2009-1-03.pdf\" onclick=\"javascript: pageTracker._trackPageview('pdfs/BORME-A-2009-1-03.pdf');\" title=\"PDF firmado BORME-A-2009-1-03\">PDF (BORME-A-2009-1-03 - 161 <abbr title=\"kilobytes\">KB</abbr>)</a>\n",
        "<a href=\"pdfs/BORME-A-2009-1-04.pdf\" onclick=\"javascript: pageTracker._trackPageview('pdfs/BORME-A-2009-1-04.pdf');\" title=\"PDF firmado BORME-A-2009-1-04\">PDF (BORME-A-2009-1-04 - 151 <abbr title=\"kilobytes\">KB</abbr>)</a>\n",
        "<a href=\"pdfs/BORME-A-2009-1-06.pdf\" onclick=\"javascript: pageTracker._trackPageview('pdfs/BORME-A-2009-1-06.pdf');\" title=\"PDF firmado BORME-A-2009-1-06\">PDF (BORME-A-2009-1-06 - 141 <abbr title=\"kilobytes\">KB</abbr>)</a>\n",
        "<a href=\"pdfs/BORME-A-2009-1-08.pdf\" onclick=\"javascript: pageTracker._trackPageview('pdfs/BORME-A-2009-1-08.pdf');\" title=\"PDF firmado BORME-A-2009-1-08\">PDF (BORME-A-2009-1-08 - 785 <abbr title=\"kilobytes\">KB</abbr>)</a>\n",
        "<a href=\"pdfs/BORME-A-2009-1-10.pdf\" onclick=\"javascript: pageTracker._trackPageview('pdfs/BORME-A-2009-1-10.pdf');\" title=\"PDF firmado BORME-A-2009-1-10\">PDF (BORME-A-2009-1-10 - 171 <abbr title=\"kilobytes\">KB</abbr>)</a>\n",
        "<a href=\"pdfs/BORME-A-2009-1-12.pdf\" onclick=\"javascript: pageTracker._trackPageview('pdfs/BORME-A-2009-1-12.pdf');\" title=\"PDF firmado BORME-A-2009-1-12\">PDF (BORME-A-2009-1-12 - 157 <abbr title=\"kilobytes\">KB</abbr>)</a>\n",
        "<a href=\"pdfs/BORME-A-2009-1-14.pdf\" onclick=\"javascript: pageTracker._trackPageview('pdfs/BORME-A-2009-1-14.pdf');\" title=\"PDF firmado BORME-A-2009-1-14\">PDF (BORME-A-2009-1-14 - 149 <abbr title=\"kilobytes\">KB</abbr>)</a>\n",
        "<a href=\"pdfs/BORME-A-2009-1-15.pdf\" onclick=\"javascript: pageTracker._trackPageview('pdfs/BORME-A-2009-1-15.pdf');\" title=\"PDF firmado BORME-A-2009-1-15\">PDF (BORME-A-2009-1-15 - 168 <abbr title=\"kilobytes\">KB</abbr>)</a>\n",
        "<a href=\"pdfs/BORME-A-2009-1-17.pdf\" onclick=\"javascript: pageTracker._trackPageview('pdfs/BORME-A-2009-1-17.pdf');\" title=\"PDF firmado BORME-A-2009-1-17\">PDF (BORME-A-2009-1-17 - 184 <abbr title=\"kilobytes\">KB</abbr>)</a>\n",
        "<a href=\"pdfs/BORME-A-2009-1-18.pdf\" onclick=\"javascript: pageTracker._trackPageview('pdfs/BORME-A-2009-1-18.pdf');\" title=\"PDF firmado BORME-A-2009-1-18\">PDF (BORME-A-2009-1-18 - 155 <abbr title=\"kilobytes\">KB</abbr>)</a>\n",
        "<a href=\"pdfs/BORME-A-2009-1-19.pdf\" onclick=\"javascript: pageTracker._trackPageview('pdfs/BORME-A-2009-1-19.pdf');\" title=\"PDF firmado BORME-A-2009-1-19\">PDF (BORME-A-2009-1-19 - 194 <abbr title=\"kilobytes\">KB</abbr>)</a>\n",
        "<a href=\"pdfs/BORME-A-2009-1-20.pdf\" onclick=\"javascript: pageTracker._trackPageview('pdfs/BORME-A-2009-1-20.pdf');\" title=\"PDF firmado BORME-A-2009-1-20\">PDF (BORME-A-2009-1-20 - 145 <abbr title=\"kilobytes\">KB</abbr>)</a>\n",
        "<a href=\"pdfs/BORME-A-2009-1-22.pdf\" onclick=\"javascript: pageTracker._trackPageview('pdfs/BORME-A-2009-1-22.pdf');\" title=\"PDF firmado BORME-A-2009-1-22\">PDF (BORME-A-2009-1-22 - 156 <abbr title=\"kilobytes\">KB</abbr>)</a>\n",
        "<a href=\"pdfs/BORME-A-2009-1-23.pdf\" onclick=\"javascript: pageTracker._trackPageview('pdfs/BORME-A-2009-1-23.pdf');\" title=\"PDF firmado BORME-A-2009-1-23\">PDF (BORME-A-2009-1-23 - 142 <abbr title=\"kilobytes\">KB</abbr>)</a>\n",
        "<a href=\"pdfs/BORME-A-2009-1-24.pdf\" onclick=\"javascript: pageTracker._trackPageview('pdfs/BORME-A-2009-1-24.pdf');\" title=\"PDF firmado BORME-A-2009-1-24\">PDF (BORME-A-2009-1-24 - 146 <abbr title=\"kilobytes\">KB</abbr>)</a>\n",
        "<a href=\"pdfs/BORME-A-2009-1-25.pdf\" onclick=\"javascript: pageTracker._trackPageview('pdfs/BORME-A-2009-1-25.pdf');\" title=\"PDF firmado BORME-A-2009-1-25\">PDF (BORME-A-2009-1-25 - 173 <abbr title=\"kilobytes\">KB</abbr>)</a>\n",
        "<a href=\"pdfs/BORME-A-2009-1-26.pdf\" onclick=\"javascript: pageTracker._trackPageview('pdfs/BORME-A-2009-1-26.pdf');\" title=\"PDF firmado BORME-A-2009-1-26\">PDF (BORME-A-2009-1-26 - 147 <abbr title=\"kilobytes\">KB</abbr>)</a>\n",
        "<a href=\"pdfs/BORME-A-2009-1-27.pdf\" onclick=\"javascript: pageTracker._trackPageview('pdfs/BORME-A-2009-1-27.pdf');\" title=\"PDF firmado BORME-A-2009-1-27\">PDF (BORME-A-2009-1-27 - 145 <abbr title=\"kilobytes\">KB</abbr>)</a>\n",
        "<a href=\"pdfs/BORME-A-2009-1-28.pdf\" onclick=\"javascript: pageTracker._trackPageview('pdfs/BORME-A-2009-1-28.pdf');\" title=\"PDF firmado BORME-A-2009-1-28\">PDF (BORME-A-2009-1-28 - 531 <abbr title=\"kilobytes\">KB</abbr>)</a>\n",
        "<a href=\"pdfs/BORME-A-2009-1-30.pdf\" onclick=\"javascript: pageTracker._trackPageview('pdfs/BORME-A-2009-1-30.pdf');\" title=\"PDF firmado BORME-A-2009-1-30\">PDF (BORME-A-2009-1-30 - 192 <abbr title=\"kilobytes\">KB</abbr>)</a>\n",
        "<a href=\"pdfs/BORME-A-2009-1-31.pdf\" onclick=\"javascript: pageTracker._trackPageview('pdfs/BORME-A-2009-1-31.pdf');\" title=\"PDF firmado BORME-A-2009-1-31\">PDF (BORME-A-2009-1-31 - 143 <abbr title=\"kilobytes\">KB</abbr>)</a>\n",
        "<a href=\"pdfs/BORME-A-2009-1-33.pdf\" onclick=\"javascript: pageTracker._trackPageview('pdfs/BORME-A-2009-1-33.pdf');\" title=\"PDF firmado BORME-A-2009-1-33\">PDF (BORME-A-2009-1-33 - 151 <abbr title=\"kilobytes\">KB</abbr>)</a>\n",
        "<a href=\"pdfs/BORME-A-2009-1-35.pdf\" onclick=\"javascript: pageTracker._trackPageview('pdfs/BORME-A-2009-1-35.pdf');\" title=\"PDF firmado BORME-A-2009-1-35\">PDF (BORME-A-2009-1-35 - 185 <abbr title=\"kilobytes\">KB</abbr>)</a>\n",
        "<a href=\"pdfs/BORME-A-2009-1-36.pdf\" onclick=\"javascript: pageTracker._trackPageview('pdfs/BORME-A-2009-1-36.pdf');\" title=\"PDF firmado BORME-A-2009-1-36\">PDF (BORME-A-2009-1-36 - 146 <abbr title=\"kilobytes\">KB</abbr>)</a>\n",
        "<a href=\"pdfs/BORME-A-2009-1-37.pdf\" onclick=\"javascript: pageTracker._trackPageview('pdfs/BORME-A-2009-1-37.pdf');\" title=\"PDF firmado BORME-A-2009-1-37\">PDF (BORME-A-2009-1-37 - 164 <abbr title=\"kilobytes\">KB</abbr>)</a>\n",
        "<a href=\"pdfs/BORME-A-2009-1-38.pdf\" onclick=\"javascript: pageTracker._trackPageview('pdfs/BORME-A-2009-1-38.pdf');\" title=\"PDF firmado BORME-A-2009-1-38\">PDF (BORME-A-2009-1-38 - 255 <abbr title=\"kilobytes\">KB</abbr>)</a>\n",
        "<a href=\"pdfs/BORME-A-2009-1-40.pdf\" onclick=\"javascript: pageTracker._trackPageview('pdfs/BORME-A-2009-1-40.pdf');\" title=\"PDF firmado BORME-A-2009-1-40\">PDF (BORME-A-2009-1-40 - 145 <abbr title=\"kilobytes\">KB</abbr>)</a>\n",
        "<a href=\"pdfs/BORME-A-2009-1-46.pdf\" onclick=\"javascript: pageTracker._trackPageview('pdfs/BORME-A-2009-1-46.pdf');\" title=\"PDF firmado BORME-A-2009-1-46\">PDF (BORME-A-2009-1-46 - 223 <abbr title=\"kilobytes\">KB</abbr>)</a>\n",
        "<a href=\"pdfs/BORME-A-2009-1-47.pdf\" onclick=\"javascript: pageTracker._trackPageview('pdfs/BORME-A-2009-1-47.pdf');\" title=\"PDF firmado BORME-A-2009-1-47\">PDF (BORME-A-2009-1-47 - 149 <abbr title=\"kilobytes\">KB</abbr>)</a>\n",
        "<a href=\"pdfs/BORME-A-2009-1-49.pdf\" onclick=\"javascript: pageTracker._trackPageview('pdfs/BORME-A-2009-1-49.pdf');\" title=\"PDF firmado BORME-A-2009-1-49\">PDF (BORME-A-2009-1-49 - 149 <abbr title=\"kilobytes\">KB</abbr>)</a>\n",
        "<a href=\"pdfs/BORME-A-2009-1-50.pdf\" onclick=\"javascript: pageTracker._trackPageview('pdfs/BORME-A-2009-1-50.pdf');\" title=\"PDF firmado BORME-A-2009-1-50\">PDF (BORME-A-2009-1-50 - 178 <abbr title=\"kilobytes\">KB</abbr>)</a>\n",
        "<a href=\"pdfs/BORME-A-2009-1-99.pdf\" onclick=\"javascript: pageTracker._trackPageview('pdfs/BORME-A-2009-1-99.pdf');\" title=\"PDF firmado BORME-A-2009-1-99\">PDF (BORME-A-2009-1-99 - 1.467 <abbr title=\"kilobytes\">KB</abbr>)</a>\n"
       ]
      }
     ],
     "prompt_number": 27
    },
    {
     "cell_type": "code",
     "collapsed": false,
     "input": [],
     "language": "python",
     "metadata": {},
     "outputs": []
    }
   ],
   "metadata": {}
  }
 ]
}